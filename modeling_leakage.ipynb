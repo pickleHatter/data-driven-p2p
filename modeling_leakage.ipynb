{
 "cells": [
  {
   "cell_type": "markdown",
   "metadata": {},
   "source": [
    "# Supplementary - check leakage\n",
    "\n",
    "In this supplementary notebook, we check how different classification model would perform if we include the leaked features in our analysis (especially the last fico range)"
   ]
  },
  {
   "cell_type": "code",
   "execution_count": 42,
   "metadata": {
    "collapsed": true,
    "scrolled": true
   },
   "outputs": [],
   "source": [
    "# Load general utilities\n",
    "# ----------------------\n",
    "import pandas as pd\n",
    "import matplotlib.pyplot as plt\n",
    "import datetime\n",
    "import numpy as np\n",
    "import pickle\n",
    "import time\n",
    "import seaborn as sns\n",
    "import os\n",
    "\n",
    "# Load sklearn utilities\n",
    "# ----------------------\n",
    "from sklearn.model_selection import train_test_split\n",
    "from sklearn import preprocessing\n",
    "from sklearn.model_selection import GridSearchCV\n",
    "from sklearn.model_selection import cross_val_score\n",
    "\n",
    "from sklearn.metrics import accuracy_score, classification_report, roc_auc_score, roc_curve, brier_score_loss, mean_squared_error, r2_score\n",
    "\n",
    "from sklearn.calibration import calibration_curve\n",
    "\n",
    "# Load classifiers\n",
    "# ----------------\n",
    "from sklearn.linear_model import LogisticRegression\n",
    "from sklearn.linear_model import RidgeClassifier\n",
    "from sklearn.tree import DecisionTreeClassifier\n",
    "from sklearn.ensemble import RandomForestClassifier\n",
    "from sklearn.naive_bayes import GaussianNB\n",
    "from sklearn.linear_model import LogisticRegressionCV\n",
    "\n",
    "# Load debugger, if required\n",
    "#import pixiedust\n",
    "pd.options.mode.chained_assignment = None #'warn'"
   ]
  },
  {
   "cell_type": "markdown",
   "metadata": {},
   "source": [
    "## Load the raw data"
   ]
  },
  {
   "cell_type": "code",
   "execution_count": 4,
   "metadata": {
    "collapsed": false
   },
   "outputs": [
    {
     "name": "stdout",
     "output_type": "stream",
     "text": [
      "    Reading file LoanStats_securev1_2016Q3.csv.zip\n",
      "    Reading file LoanStats_securev1_2016Q2.csv.zip\n",
      "    Reading file LoanStats3a_securev1.csv.zip\n",
      "    Reading file LoanStats_securev1_2017Q1.csv.zip\n",
      "    Reading file LoanStats3d_securev1.csv.zip\n",
      "    Reading file LoanStats_securev1_2017Q3.csv.zip\n",
      "    Reading file LoanStats_securev1_2017Q2.csv.zip\n",
      "    Reading file LoanStats_securev1_2016Q1.csv.zip\n",
      "    Reading file LoanStats_securev1_2016Q4.csv.zip\n",
      "    Reading file LoanStats3c_securev1.csv.zip\n",
      "    Reading file LoanStats_securev1_2017Q4.csv.zip\n",
      "    Reading file LoanStats3b_securev1.csv.zip\n"
     ]
    }
   ],
   "source": [
    "# load teh data from the file\n",
    "directory = '../Data/1805_download/'\n",
    "all_files = os.listdir(directory)\n",
    "output = {}\n",
    "for i in all_files:\n",
    "    print(\"    Reading file \" + i)\n",
    "    output[i] = pd.read_csv(directory + i, dtype = str, skiprows = 1)"
   ]
  },
  {
   "cell_type": "code",
   "execution_count": 34,
   "metadata": {
    "collapsed": false
   },
   "outputs": [
    {
     "data": {
      "text/plain": [
       "(1761862, 36)"
      ]
     },
     "execution_count": 34,
     "metadata": {},
     "output_type": "execute_result"
    }
   ],
   "source": [
    "data = pd.concat([output[i] for i in output.keys()], join='inner')\n",
    "\n",
    "data = data[['id','loan_amnt','funded_amnt','funded_amnt_inv','term','int_rate',\n",
    "         'installment','grade','sub_grade','emp_title','emp_length',\n",
    "         'home_ownership','annual_inc','verification_status','issue_d',\n",
    "         'loan_status','purpose','title','zip_code','addr_state','dti','total_pymnt',\n",
    "         'delinq_2yrs','earliest_cr_line','open_acc','pub_rec','last_pymnt_d',\n",
    "         'last_pymnt_amnt','fico_range_high','fico_range_low','last_fico_range_high',\n",
    "         'last_fico_range_low','application_type','revol_bal','revol_util','recoveries']]\n",
    "\n",
    "data.dropna(subset=['annual_inc','loan_status','issue_d','last_pymnt_d','loan_amnt',\n",
    "                    'int_rate','earliest_cr_line','open_acc','pub_rec','delinq_2yrs','recoveries',\n",
    "                    'grade','fico_range_high','fico_range_low','installment', 'last_fico_range_high',\n",
    "                    'last_fico_range_low','funded_amnt','dti','funded_amnt_inv','revol_bal','revol_util']\n",
    "            ,inplace=True)\n",
    "data.shape"
   ]
  },
  {
   "cell_type": "code",
   "execution_count": 35,
   "metadata": {
    "collapsed": true
   },
   "outputs": [],
   "source": [
    "# Identify the type of each of these column\n",
    "float_cols = ['loan_amnt', 'funded_amnt', 'installment', 'annual_inc',\n",
    "            'dti', 'revol_bal', 'delinq_2yrs', 'open_acc', 'pub_rec',\n",
    "                'fico_range_high', 'fico_range_low','last_fico_range_low',\n",
    "              'last_fico_range_high','total_pymnt', 'recoveries']\n",
    "cat_cols = ['term', 'grade', 'emp_length', 'home_ownership',\n",
    "                    'verification_status', 'loan_status', 'purpose']\n",
    "perc_cols = ['int_rate', 'revol_util']\n",
    "date_cols = ['issue_d', 'earliest_cr_line', 'last_pymnt_d']\n",
    "\n",
    "for j in float_cols:\n",
    "    data[j] = pd.to_numeric(data[j])\n",
    "    \n",
    "for j in perc_cols:\n",
    "    data[j] = data[j].str.strip('%')\n",
    "    data[j] = pd.to_numeric(data[j])\n",
    "    data[j] = data[j]/100\n",
    "\n",
    "for j in date_cols:\n",
    "    data[j] = pd.to_datetime(data[j])"
   ]
  },
  {
   "cell_type": "markdown",
   "metadata": {},
   "source": [
    "## Engineer the features and generate the training/testing set"
   ]
  },
  {
   "cell_type": "code",
   "execution_count": 37,
   "metadata": {
    "collapsed": false
   },
   "outputs": [
    {
     "name": "stdout",
     "output_type": "stream",
     "text": [
      "(35000, 66)\n",
      "(15000, 66)\n"
     ]
    }
   ],
   "source": [
    "default_seed = 1\n",
    "np.random.seed(default_seed)\n",
    "\n",
    "# select only terminated loans\n",
    "data = data[data.loan_status.isin(['Fully Paid','Charged Off','Default'])]\n",
    "\n",
    "# downsample\n",
    "data = data.sample(n=50000)\n",
    "\n",
    "# create labels for the dataset\n",
    "data['label'] = (data.loan_status.str.contains('Charged Off') | \n",
    "                data.loan_status.str.contains('Default'))\n",
    "data['cr_hist'] = (data.issue_d - data.earliest_cr_line) / np.timedelta64(1, 'M')\n",
    "data.label = data.label.astype(int)\n",
    "\n",
    "\n",
    "\n",
    "# clean and get training/testing data \n",
    "temp = pd.get_dummies(data[['term','grade','emp_length','home_ownership',\n",
    "                                  'verification_status','purpose']],dummy_na=True)\n",
    "\n",
    "X = data.as_matrix(columns=['loan_amnt','funded_amnt','int_rate','installment',\n",
    "                            'annual_inc','dti','delinq_2yrs','open_acc','pub_rec',\n",
    "                            'fico_range_high','fico_range_low','cr_hist','revol_bal',\n",
    "                            'recoveries','last_fico_range_high','last_fico_range_low',\n",
    "                            'revol_util', 'total_pymnt'])\n",
    "\n",
    "X = np.concatenate((X,temp.as_matrix()),axis=1)\n",
    "y = data.label.as_matrix()\n",
    "\n",
    "X_train, X_test, y_train, y_test = train_test_split(X, y, test_size=0.3)\n",
    "\n",
    "min_max_scaler = preprocessing.MinMaxScaler()\n",
    "X_train = min_max_scaler.fit_transform(X_train)\n",
    "X_test = min_max_scaler.transform(X_test)\n",
    "\n",
    "print(X_train.shape)\n",
    "print(X_test.shape)"
   ]
  },
  {
   "cell_type": "markdown",
   "metadata": {},
   "source": [
    "## Classification models"
   ]
  },
  {
   "cell_type": "markdown",
   "metadata": {},
   "source": [
    "### $l_2$ penalized logistic regression"
   ]
  },
  {
   "cell_type": "code",
   "execution_count": 40,
   "metadata": {
    "collapsed": false
   },
   "outputs": [
    {
     "data": {
      "text/plain": [
       "LogisticRegressionCV(Cs=10, class_weight=None, cv=10, dual=False,\n",
       "           fit_intercept=True, intercept_scaling=1.0, max_iter=100,\n",
       "           multi_class='ovr', n_jobs=1, penalty='l2', random_state=None,\n",
       "           refit=True, scoring=None, solver='lbfgs', tol=0.0001, verbose=0)"
      ]
     },
     "execution_count": 40,
     "metadata": {},
     "output_type": "execute_result"
    }
   ],
   "source": [
    "logisticModel = LogisticRegressionCV(cv=10,penalty='l2')\n",
    "logisticModel.fit(X_train,y_train)"
   ]
  },
  {
   "cell_type": "code",
   "execution_count": 41,
   "metadata": {
    "collapsed": false
   },
   "outputs": [
    {
     "name": "stdout",
     "output_type": "stream",
     "text": [
      "accuracy:  0.993733333333\n",
      "                    precision    recall  f1-score   support\n",
      "\n",
      "Non-Defaulted Loan     0.9937    0.9985    0.9961     11948\n",
      "    Defaulted Loan     0.9940    0.9751    0.9845      3052\n",
      "\n",
      "       avg / total     0.9937    0.9937    0.9937     15000\n",
      "\n",
      "AUC:  0.996996185085\n"
     ]
    }
   ],
   "source": [
    "y_pred = logisticModel.predict(X_test)\n",
    "print('accuracy: ',accuracy_score(y_test,y_pred))\n",
    "target_names = ['Non-Defaulted Loan','Defaulted Loan']\n",
    "print(classification_report(y_test,y_pred,target_names=target_names,digits=4))\n",
    "print('AUC: ',roc_auc_score(y_test,logisticModel.predict_proba(X_test)[:,1]))"
   ]
  },
  {
   "cell_type": "code",
   "execution_count": 44,
   "metadata": {
    "collapsed": false
   },
   "outputs": [
    {
     "data": {
      "image/png": "[encoded data removed]",
      "text/plain": [
       "<matplotlib.figure.Figure at 0x2e9583a58>"
      ]
     },
     "metadata": {},
     "output_type": "display_data"
    }
   ],
   "source": [
    "fpr, tpr, thresholds = roc_curve(y_test, logisticModel.predict_proba(X_test)[:,1],\n",
    "                                         pos_label=1)\n",
    "plt.title('Receiver Operating Characteristic')\n",
    "plt.plot(fpr, tpr, 'b',\n",
    "label='AUC = %0.2f'% roc_auc_score(y_test,logisticModel.predict_proba(X_test)[:,1]))\n",
    "plt.legend(loc='lower right')\n",
    "plt.plot([0,1],[0,1],'r--')\n",
    "plt.xlim([0,1])\n",
    "plt.ylim([0,1])\n",
    "plt.ylabel('True Positive Rate')\n",
    "plt.xlabel('False Positive Rate')\n",
    "plt.show()"
   ]
  },
  {
   "cell_type": "markdown",
   "metadata": {},
   "source": [
    "### Random forest\n",
    "In addition to logistic regression, let's also take a quick look at random forest"
   ]
  },
  {
   "cell_type": "code",
   "execution_count": 45,
   "metadata": {
    "collapsed": false
   },
   "outputs": [
    {
     "name": "stdout",
     "output_type": "stream",
     "text": [
      "accuracy:  0.970333333333\n",
      "                    precision    recall  f1-score   support\n",
      "\n",
      "Non-Defaulted Loan     0.9738    0.9894    0.9815     11948\n",
      "    Defaulted Loan     0.9556    0.8958    0.9247      3052\n",
      "\n",
      "       avg / total     0.9701    0.9703    0.9700     15000\n",
      "\n",
      "AUC:  0.994910229167\n"
     ]
    }
   ],
   "source": [
    "random_forest = RandomForestClassifier(min_samples_leaf=100,n_estimators=50)\n",
    "random_forest.fit(X_train,y_train)\n",
    "y_pred = random_forest.predict(X_test)\n",
    "print('accuracy: ',accuracy_score(y_test,y_pred))\n",
    "target_names = ['Non-Defaulted Loan','Defaulted Loan']\n",
    "print(classification_report(y_test,y_pred,target_names=target_names,digits=4))\n",
    "print('AUC: ',roc_auc_score(y_test,random_forest.predict_proba(X_test)[:,1]))"
   ]
  },
  {
   "cell_type": "markdown",
   "metadata": {},
   "source": [
    "As we can see, with leaked features the AUC of the models is ridiculously high"
   ]
  }
 ],
 "metadata": {
  "kernelspec": {
   "display_name": "Python 3",
   "language": "python",
   "name": "python3"
  },
  "language_info": {
   "codemirror_mode": {
    "name": "ipython",
    "version": 3
   },
   "file_extension": ".py",
   "mimetype": "text/x-python",
   "name": "python",
   "nbconvert_exporter": "python",
   "pygments_lexer": "ipython3",
   "version": "3.6.0"
  }
 },
 "nbformat": 4,
 "nbformat_minor": 2
}
